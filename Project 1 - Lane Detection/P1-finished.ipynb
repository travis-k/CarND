{
 "cells": [
  {
   "cell_type": "code",
   "execution_count": 1,
   "metadata": {
    "collapsed": false,
    "deletable": true,
    "editable": true
   },
   "outputs": [
    {
     "name": "stdout",
     "output_type": "stream",
     "text": [
      "[MoviePy] >>>> Building video videos_rawlines_output/challenge.mp4\n",
      "[MoviePy] Writing video videos_rawlines_output/challenge.mp4\n"
     ]
    },
    {
     "name": "stderr",
     "output_type": "stream",
     "text": [
      "100%|████████████████████████████████████████████████████████████████████████████████| 251/251 [00:15<00:00, 16.54it/s]\n"
     ]
    },
    {
     "name": "stdout",
     "output_type": "stream",
     "text": [
      "[MoviePy] Done.\n",
      "[MoviePy] >>>> Video ready: videos_rawlines_output/challenge.mp4 \n",
      "\n",
      "[MoviePy] >>>> Building video videos_avglines_output/challenge.mp4\n",
      "[MoviePy] Writing video videos_avglines_output/challenge.mp4\n"
     ]
    },
    {
     "name": "stderr",
     "output_type": "stream",
     "text": [
      "100%|████████████████████████████████████████████████████████████████████████████████| 251/251 [00:15<00:00, 16.47it/s]\n"
     ]
    },
    {
     "name": "stdout",
     "output_type": "stream",
     "text": [
      "[MoviePy] Done.\n",
      "[MoviePy] >>>> Video ready: videos_avglines_output/challenge.mp4 \n",
      "\n",
      "[MoviePy] >>>> Building video videos_rawlines_output/solidWhiteRight.mp4\n",
      "[MoviePy] Writing video videos_rawlines_output/solidWhiteRight.mp4\n"
     ]
    },
    {
     "name": "stderr",
     "output_type": "stream",
     "text": [
      "100%|███████████████████████████████████████████████████████████████████████████████▋| 221/222 [00:07<00:00, 28.47it/s]\n"
     ]
    },
    {
     "name": "stdout",
     "output_type": "stream",
     "text": [
      "[MoviePy] Done.\n",
      "[MoviePy] >>>> Video ready: videos_rawlines_output/solidWhiteRight.mp4 \n",
      "\n",
      "[MoviePy] >>>> Building video videos_avglines_output/solidWhiteRight.mp4\n",
      "[MoviePy] Writing video videos_avglines_output/solidWhiteRight.mp4\n"
     ]
    },
    {
     "name": "stderr",
     "output_type": "stream",
     "text": [
      "100%|███████████████████████████████████████████████████████████████████████████████▋| 221/222 [00:07<00:00, 28.94it/s]\n"
     ]
    },
    {
     "name": "stdout",
     "output_type": "stream",
     "text": [
      "[MoviePy] Done.\n",
      "[MoviePy] >>>> Video ready: videos_avglines_output/solidWhiteRight.mp4 \n",
      "\n",
      "[MoviePy] >>>> Building video videos_rawlines_output/solidYellowLeft.mp4\n",
      "[MoviePy] Writing video videos_rawlines_output/solidYellowLeft.mp4\n"
     ]
    },
    {
     "name": "stderr",
     "output_type": "stream",
     "text": [
      "100%|███████████████████████████████████████████████████████████████████████████████▉| 681/682 [00:23<00:00, 29.19it/s]\n"
     ]
    },
    {
     "name": "stdout",
     "output_type": "stream",
     "text": [
      "[MoviePy] Done.\n",
      "[MoviePy] >>>> Video ready: videos_rawlines_output/solidYellowLeft.mp4 \n",
      "\n",
      "[MoviePy] >>>> Building video videos_avglines_output/solidYellowLeft.mp4\n",
      "[MoviePy] Writing video videos_avglines_output/solidYellowLeft.mp4\n"
     ]
    },
    {
     "name": "stderr",
     "output_type": "stream",
     "text": [
      "100%|███████████████████████████████████████████████████████████████████████████████▉| 681/682 [00:23<00:00, 29.11it/s]\n"
     ]
    },
    {
     "name": "stdout",
     "output_type": "stream",
     "text": [
      "[MoviePy] Done.\n",
      "[MoviePy] >>>> Video ready: videos_avglines_output/solidYellowLeft.mp4 \n",
      "\n"
     ]
    }
   ],
   "source": [
    "import matplotlib.pyplot as plt\n",
    "import matplotlib.image as mpimg\n",
    "import numpy as np\n",
    "import cv2\n",
    "import tensorflow as tf\n",
    "import math\n",
    "from moviepy.editor import VideoFileClip\n",
    "from IPython.display import HTML\n",
    "import os\n",
    "import scipy.misc\n",
    "\n",
    "## Helper Functions\n",
    "def grayscale(img):\n",
    "    \"\"\"Applies the Grayscale transform\n",
    "    This will return an image with only one color channel\n",
    "    but NOTE: to see the returned image as grayscale\n",
    "    (assuming your grayscaled image is called 'gray')\n",
    "    you should call plt.imshow(gray, cmap='gray')\"\"\"\n",
    "    return cv2.cvtColor(img, cv2.COLOR_RGB2GRAY)\n",
    "    # Or use BGR2GRAY if you read an image with cv2.imread()\n",
    "    # return cv2.cvtColor(img, cv2.COLOR_BGR2GRAY)\n",
    "    \n",
    "def canny(img, low_threshold, high_threshold):\n",
    "    \"\"\"Applies the Canny transform\"\"\"\n",
    "    return cv2.Canny(img, low_threshold, high_threshold)\n",
    "\n",
    "def gaussian_blur(img, kernel_size):\n",
    "    \"\"\"Applies a Gaussian Noise kernel\"\"\"\n",
    "    return cv2.GaussianBlur(img, (kernel_size, kernel_size), 0)\n",
    "\n",
    "def region_of_interest(img, vertices):\n",
    "    \"\"\"\n",
    "    Applies an image mask.\n",
    "    \n",
    "    Only keeps the region of the image defined by the polygon\n",
    "    formed from `vertices`. The rest of the image is set to black.\n",
    "    \"\"\"\n",
    "    #defining a blank mask to start with\n",
    "    mask = np.zeros_like(img)   \n",
    "    \n",
    "    #defining a 3 channel or 1 channel color to fill the mask with depending on the input image\n",
    "    if len(img.shape) > 2:\n",
    "        channel_count = img.shape[2]  # i.e. 3 or 4 depending on your image\n",
    "        ignore_mask_color = (255,) * channel_count\n",
    "    else:\n",
    "        ignore_mask_color = 255\n",
    "        \n",
    "    #filling pixels inside the polygon defined by \"vertices\" with the fill color    \n",
    "    cv2.fillPoly(mask, vertices, ignore_mask_color)\n",
    "    \n",
    "    #returning the image only where mask pixels are nonzero\n",
    "    masked_image = cv2.bitwise_and(img, mask)\n",
    "    return masked_image\n",
    "\n",
    "\n",
    "def draw_lines(img, lines, y_max, x_max, AvgFlag, color=[255, 0, 0]):\n",
    "    # This function draws the hough lines on the image, or the averaged lane line location\n",
    "    # based on the AvgFlag (true = averaged line location, false = rough hough lines)\n",
    "    \n",
    "    if lines is not None: # Simple check to see if there are indeed lines\n",
    "        if AvgFlag is True:\n",
    "            \n",
    "            thickness = 12\n",
    "            \n",
    "            # Slopes are found for all Hough lines\n",
    "            slopes = (lines[:,0,3]-lines[:,0,1])/(lines[:,0,2] - lines[:,0,0])\n",
    "            # The lengths of all the lines are found as Ill\n",
    "            lengths = np.sqrt((lines[:,0,3]-lines[:,0,1])**2 + (lines[:,0,2] - lines[:,0,0])**2)\n",
    "            \n",
    "            # Left lane lines likely have a slope greater than zero, as they go upwards and to the right\n",
    "            left_side = (slopes > 0)\n",
    "            # If a point from the \"left lane\" is on the right half of the image, ignore it as it is probably incorrect or noise\n",
    "            offside = np.logical_or(lines[:,0,0] < x_max/2, lines[:,0,2] < x_max/2) \n",
    "            left_side[offside] = False\n",
    "            \n",
    "            # Do the opposite of the above procedure to find the right lane lines\n",
    "            right_side = (slopes < 0)\n",
    "            offside = np.logical_or(lines[:,0,0] > x_max/2, lines[:,0,2] > x_max/2)\n",
    "            right_side[offside] = False\n",
    "        \n",
    "            # Check to see if there are both left and right side lines\n",
    "            if len(lengths[left_side]) > 0 and len(lengths[right_side]) > 0:\n",
    "                \n",
    "                # To find the slopes of the lane lines, take the weighted averages of all lines on that side\n",
    "                # The hope is that the longer lines will be what we want. Shorter lines may be noise and\n",
    "                # the weight will give it less of a negative impact\n",
    "                slope_left = np.average(slopes[left_side], weights=lengths[left_side])\n",
    "                slope_right = np.average(slopes[right_side], weights=lengths[right_side])\n",
    "                \n",
    "                # Average all the points on the left and right sides to find the \"midpoint\" (it won't be actually halfway)\n",
    "                x_mid_left = np.average(np.vstack((lines[left_side,0,0],lines[left_side,0,2])), weights=np.vstack((lengths[left_side],lengths[left_side])))\n",
    "                y_mid_left = np.average(np.vstack((lines[left_side,0,1],lines[left_side,0,3])), weights=np.vstack((lengths[left_side],lengths[left_side])))\n",
    "                \n",
    "                x_mid_right = np.average(np.vstack((lines[right_side,0,0],lines[right_side,0,2])), weights=np.vstack((lengths[right_side],lengths[right_side])))\n",
    "                y_mid_right = np.average(np.vstack((lines[right_side,0,1],lines[right_side,0,3])), weights=np.vstack((lengths[right_side],lengths[right_side])))\n",
    "                \n",
    "                # Now, using the slope of the lines and the \"midpoint\", I find where it will intersect the bottom edge of the image\n",
    "                x_lower_left = ((y_max - y_mid_left)/slope_left) + x_mid_left\n",
    "                x_lower_right = ((y_max - y_mid_right)/slope_right) + x_mid_right\n",
    "                \n",
    "                # This is the height cuttof for the lines we will draw\n",
    "                y_height = y_max/1.6;\n",
    "                \n",
    "                # Using the above cutoff and the slope, find the x-coordinate of the upper point\n",
    "                x_upper_left = ((y_height - y_mid_left)/slope_left) + x_mid_left\n",
    "                x_upper_right = ((y_height - y_mid_right)/slope_right) + x_mid_right\n",
    "                \n",
    "                # Plot the upper and lower (x,y) pair for both left and right side\n",
    "                cv2.line(img, (int(x_lower_left), y_max), (int(x_upper_left), int(y_height)), color, thickness)\n",
    "                cv2.line(img, (int(x_lower_right), y_max), (int(x_upper_right), int(y_height)), color, thickness) \n",
    "        \n",
    "        # If not returning averaged lines, return the raw stuff\n",
    "        else:\n",
    "            thickness = 2\n",
    "            for line in lines:\n",
    "                for x1,y1,x2,y2 in line:\n",
    "                    cv2.line(img, (x1, y1), (x2, y2), color, thickness)\n",
    "\n",
    "\n",
    "def hough_lines(img, rho, theta, threshold, min_line_len, max_line_gap, y_max, x_max, AvgFlag):\n",
    "    \"\"\"\n",
    "    `img` should be the output of a Canny transform.\n",
    "        \n",
    "    Returns an image with hough lines drawn.\n",
    "    \"\"\"\n",
    "    lines = cv2.HoughLinesP(img, rho, theta, threshold, np.array([]), minLineLength=min_line_len, maxLineGap=max_line_gap)\n",
    "    line_img = np.zeros((img.shape[0], img.shape[1], 3), dtype=np.uint8)\n",
    "    draw_lines(line_img, lines, y_max, x_max, AvgFlag)\n",
    "    return line_img\n",
    "\n",
    "def weighted_img(img, initial_img, α=0.8, β=1., λ=0.):\n",
    "    \"\"\"\n",
    "    `img` is the output of the hough_lines(), An image with lines drawn on it.\n",
    "    Should be a blank image (all black) with lines drawn on it.\n",
    "    \n",
    "    `initial_img` should be the image before any processing.\n",
    "    \n",
    "    The result image is computed as follows:\n",
    "    \n",
    "    initial_img * α + img * β + λ\n",
    "    NOTE: initial_img and img must be the same shape!\n",
    "    \"\"\"\n",
    "    return cv2.addWeighted(initial_img, α, img, β, λ)\n",
    "\n",
    "def process_image(img, AvgFlag):\n",
    "\n",
    "    # This function processes the image and returns the hough lines, or the averaged approximated lane location\n",
    "    # AvgFlag = True returns the averaged lanes and False returns the rough Hough lines\n",
    "    \n",
    "    gray = grayscale(img)\n",
    "    \n",
    "    # Define a kernel size and apply Gaussian smoothing\n",
    "    kernel_size = 9\n",
    "    blur_gray = gaussian_blur(img, kernel_size)\n",
    "    \n",
    "    # Define our parameters for Canny and apply\n",
    "    low_threshold = 200\n",
    "    high_threshold = 300\n",
    "    edges = canny(img, low_threshold, high_threshold)\n",
    "    \n",
    "    # Next I'll create a masked edges image using cv2.fillPoly()\n",
    "    mask = np.zeros_like(edges)   \n",
    "    ignore_mask_color = 255   \n",
    "    \n",
    "    # I define a triangle for our polygon mask\n",
    "    imshape = img.shape\n",
    "    # vertices = np.array([[(imshape[1]/30,imshape[0]),(imshape[1]/2, imshape[0]/1.7), (imshape[1]-(imshape[1]/30),imshape[0])]], dtype=np.int32)\n",
    "    vertices = np.array([[(0,imshape[0]*0.9),(imshape[1]/2, imshape[0]/1.7), (imshape[1],imshape[0]*0.9)]], dtype=np.int32)\n",
    "\n",
    "    \n",
    "    masked_edges = region_of_interest(edges, vertices)\n",
    "    \n",
    "    # Define the Hough transform parameters\n",
    "    # Make a blank the same size as our image to draw on\n",
    "    rho = 12 # distance resolution in pixels of the Hough grid\n",
    "    theta = 0.001 # angular resolution in radians of the Hough grid\n",
    "    threshold = 100     # minimum number of votes (intersections in Hough grid cell)\n",
    "    min_line_len = 20 #minimum number of pixels making up a line\n",
    "    max_line_gap = 5    # maximum gap in pixels betIen connectable line segments\n",
    "    \n",
    "    # Run Hough on edge detected image\n",
    "    line_image = hough_lines(masked_edges, rho, theta, threshold, min_line_len, max_line_gap, imshape[0], imshape[1], AvgFlag)\n",
    "    \n",
    "    # Create a \"color\" binary image to combine with line image\n",
    "    color_edges = np.dstack((edges, edges, edges)) \n",
    "    \n",
    "    # Draw the lines on the edge image\n",
    "    marked_lane = weighted_img(line_image, img)#, α=0.8, β=1., λ=0.)\n",
    "    \n",
    "    return marked_lane\n",
    "    \n",
    "def raw_lines(img):\n",
    "    return process_image(img, False)\n",
    "\n",
    "def averaged_lines(img):\n",
    "    return process_image(img, True)\n",
    "\n",
    "## Main Script\n",
    "\n",
    "# Loading test images\n",
    "strImageIn = [\"test_images/\" + x for x in os.listdir(\"test_images/\")]\n",
    "strImageOutRaw = [\"test_images_rawlines_output/\" + x for x in os.listdir(\"test_images/\")]\n",
    "strImageOutAvg = [\"test_images_avglines_output/\" + x for x in os.listdir(\"test_images/\")]\n",
    "\n",
    "# Running test images and outputting raw and averaged lane results to test_images_output\n",
    "for i in range (0,6):\n",
    "    img = mpimg.imread(strImageIn[i])\n",
    "    \n",
    "    marked_lane = raw_lines(img)\n",
    "    scipy.misc.imsave(strImageOutRaw[i], marked_lane)\n",
    "    \n",
    "    marked_lane = averaged_lines(img)\n",
    "    scipy.misc.imsave(strImageOutAvg[i], marked_lane)\n",
    "\n",
    "# Processing videos with both raw Hough line output and avgeraged line output:\n",
    "# Loading image files (all 3)\n",
    "strVideoIn = [\"videos/\" + x for x in os.listdir(\"videos/\")]\n",
    "strVideoOutRaw = [\"videos_rawlines_output/\" + x for x in os.listdir(\"videos/\")]\n",
    "strVideoOutAvg = [\"videos_avglines_output/\" + x for x in os.listdir(\"videos/\")]\n",
    "\n",
    "# Processing each video file and outputting to videos_output\n",
    "for i in range (0,3):\n",
    "    clip = VideoFileClip(strVideoIn[i])\n",
    "    \n",
    "    # Raw Hough lines:\n",
    "    processed_clip = clip.fl_image(raw_lines)\n",
    "    processed_clip.write_videofile(strVideoOutRaw[i], audio=False)\n",
    "    \n",
    "    # Averaged lines:\n",
    "    processed_clip = clip.fl_image(averaged_lines)\n",
    "    processed_clip.write_videofile(strVideoOutAvg[i], audio=False)\n",
    "    "
   ]
  },
  {
   "cell_type": "code",
   "execution_count": null,
   "metadata": {
    "collapsed": true
   },
   "outputs": [],
   "source": []
  }
 ],
 "metadata": {
  "kernelspec": {
   "display_name": "Python 3",
   "language": "python",
   "name": "python3"
  },
  "language_info": {
   "codemirror_mode": {
    "name": "ipython",
    "version": 3
   },
   "file_extension": ".py",
   "mimetype": "text/x-python",
   "name": "python",
   "nbconvert_exporter": "python",
   "pygments_lexer": "ipython3",
   "version": "3.5.2"
  },
  "widgets": {
   "state": {},
   "version": "1.1.2"
  }
 },
 "nbformat": 4,
 "nbformat_minor": 2
}
